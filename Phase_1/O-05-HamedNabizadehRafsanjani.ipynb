{
 "cells": [
  {
   "cell_type": "markdown",
   "metadata": {},
   "source": [
    "# This code will clean the OB datasets and combine all the cleaned data into one\n",
    "## Dataset name: O-05-Hamed Nabizadeh Rafsanjani\n",
    "### Sub-folders: \n",
    "* NIOLM data\n",
    "* Plug-in meters data - unprocessed\n",
    "* Smart meter data - unprocessed"
   ]
  },
  {
   "cell_type": "code",
   "execution_count": 1,
   "metadata": {},
   "outputs": [],
   "source": [
    "import os\n",
    "import glob\n",
    "import pandas as pd"
   ]
  },
  {
   "cell_type": "code",
   "execution_count": 2,
   "metadata": {},
   "outputs": [],
   "source": [
    "root_path = 'D:/yapan_office_D/Data/Annex-79-OB-Database/2021-05-28-1130-raw-data/Annex 79 Data Collection/O-05-Hamed Nabizadeh Rafsanjani/'\n",
    "processed_path = 'D:/yapan_office_D/Data/Annex-79-OB-Database/2021-05-28-1130-raw-data/Annex 79 Data Collection/O-05-Hamed Nabizadeh Rafsanjani/_yapan_processing/'"
   ]
  },
  {
   "cell_type": "markdown",
   "metadata": {},
   "source": [
    "### 1. NIOLM data"
   ]
  },
  {
   "cell_type": "markdown",
   "metadata": {},
   "source": [
    "### This dataset is the processed results... Not raw data\n",
    "### combine csv files using pandas takes a lot of time, should use windows shell command"
   ]
  },
  {
   "cell_type": "code",
   "execution_count": null,
   "metadata": {
    "scrolled": true
   },
   "outputs": [],
   "source": [
    "# set up the working directory\n",
    "os.chdir(root_path+'NIOLM data')\n",
    "\n",
    "# find all the files within this folder\n",
    "all_filenames = [i for i in glob.glob('*.{}'.format('csv'))]\n",
    "\n",
    "# pandas combine all the csv files wihtin the folder\n",
    "combined_csv = pd.concat([pd.read_csv(f) for f in all_filenames ])"
   ]
  },
  {
   "cell_type": "markdown",
   "metadata": {},
   "source": [
    "### 2. Plug-in meters data\n",
    "#### Question: How to normalize the datetime? What is the timezone of the data?"
   ]
  },
  {
   "cell_type": "code",
   "execution_count": 3,
   "metadata": {},
   "outputs": [
    {
     "name": "stdout",
     "output_type": "stream",
     "text": [
      "Dealing with data under folder 1\n",
      "Dealing with data under folder 2\n",
      "Dealing with data under folder 3\n",
      "Dealing with data under folder 4\n",
      "Dealing with data under folder 5\n",
      "Dealing with data under folder 6\n",
      "Wall time: 5min 33s\n"
     ]
    }
   ],
   "source": [
    "%%time\n",
    "\n",
    "# this folder has 1-6 sub-folders, combine all the data under each sub-folder, assign the id as subfolder name\n",
    "for index in range(1,7):\n",
    "    # folder index\n",
    "    print(f'Dealing with data under folder {index}')\n",
    "    \n",
    "    # set up the working directory\n",
    "    os.chdir(root_path+f'Plug-in meters data - unprocessed/{index}')\n",
    "\n",
    "    # create empty dataframe for combining all the data in this folder\n",
    "    df = pd.DataFrame(columns=['Appliance_Usage_ID', 'Date_Time', 'Electric_Power'])\n",
    "\n",
    "    # find all the files within this folder\n",
    "    all_filenames = [i for i in glob.glob('*.{}'.format('csv'))]\n",
    "\n",
    "    # pandas combine all the csv files wihtin the folder\n",
    "    combined_csv = pd.concat([pd.read_csv(f) for f in all_filenames ])\n",
    "\n",
    "    # select desire data\n",
    "    cols_to_keep = ['DATE/TIME','WATTS']\n",
    "    combined_csv = combined_csv.loc[:, cols_to_keep]\n",
    "    combined_csv.columns = ['Date_Time', 'Electric_Power'] # rename the columns as standard \n",
    "\n",
    "    combined_csv['Date_Time'] = pd.to_datetime(combined_csv['Date_Time'], format=\"%Y/%m/%d %H:%M:%S\") # convert object to datetime\n",
    "    combined_csv['Appliance_Usage_ID'] = index # assign the ID to this data\n",
    "\n",
    "    # save data to a csv file\n",
    "    combined_csv.to_csv(processed_path+f'Plug-in meters data - combined-{index}.csv', index=False)\n"
   ]
  },
  {
   "cell_type": "code",
   "execution_count": null,
   "metadata": {},
   "outputs": [],
   "source": []
  },
  {
   "cell_type": "code",
   "execution_count": null,
   "metadata": {},
   "outputs": [],
   "source": []
  },
  {
   "cell_type": "markdown",
   "metadata": {},
   "source": [
    "### 3. Smart meter data"
   ]
  },
  {
   "cell_type": "code",
   "execution_count": null,
   "metadata": {},
   "outputs": [],
   "source": [
    "# set up the working directory\n",
    "os.chdir(root_path+'Smart meter data - unprocessed')\n",
    "\n",
    "# find all the files within this folder\n",
    "all_filenames = [i for i in glob.glob('*.{}'.format('csv'))]\n",
    "\n",
    "# pandas combine all the csv files wihtin the folder\n",
    "combined_csv = pd.concat([pd.read_csv(f) for f in all_filenames ])\n",
    "# combined_csv.dtypes\n",
    "\n",
    "# keep the desired data\n",
    "cols_to_keep = [combined_csv.columns[0],combined_csv.columns[1],combined_csv.columns[2]]\n",
    "combined_csv = combined_csv.loc[:, cols_to_keep]\n",
    "combined_csv.columns = ['Appliance_Usage_ID', 'Date_Time', 'Electric_Power'] # rename the columns as standard \n",
    "# specify the format of the time could significantly speed up the processing time\n",
    "combined_csv['Date_Time'] = pd.to_datetime(combined_csv['Date_Time'], format=\"%m/%d/%Y %H:%M:%S\") # convert object to datetime\n",
    "combined_csv\n"
   ]
  },
  {
   "cell_type": "code",
   "execution_count": null,
   "metadata": {
    "scrolled": true
   },
   "outputs": [],
   "source": [
    "combined_csv.head(100)"
   ]
  },
  {
   "cell_type": "code",
   "execution_count": null,
   "metadata": {
    "scrolled": true
   },
   "outputs": [],
   "source": []
  },
  {
   "cell_type": "code",
   "execution_count": null,
   "metadata": {},
   "outputs": [],
   "source": []
  }
 ],
 "metadata": {
  "kernelspec": {
   "display_name": "Python 3",
   "language": "python",
   "name": "python3"
  },
  "language_info": {
   "codemirror_mode": {
    "name": "ipython",
    "version": 3
   },
   "file_extension": ".py",
   "mimetype": "text/x-python",
   "name": "python",
   "nbconvert_exporter": "python",
   "pygments_lexer": "ipython3",
   "version": "3.8.3"
  }
 },
 "nbformat": 4,
 "nbformat_minor": 4
}
